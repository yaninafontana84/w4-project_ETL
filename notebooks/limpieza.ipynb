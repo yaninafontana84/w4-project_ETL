{
 "cells": [
  {
   "cell_type": "code",
   "execution_count": 1,
   "metadata": {},
   "outputs": [],
   "source": [
    "# librerias a importar\n",
    "\n",
    "import pandas as pd\n",
    "pd.set_option('display.max_columns', None)\n",
    "\n",
    "import numpy as np\n",
    "\n",
    "import warnings\n",
    "warnings.filterwarnings('ignore')\n"
   ]
  },
  {
   "cell_type": "code",
   "execution_count": 2,
   "metadata": {},
   "outputs": [],
   "source": [
    "archivos_csv = [\"../data/Anio2019.csv\", \"../data/Anio2020.csv\", \"../data/Anio2021.csv\", \"../data/Anio2022.csv\"]\n",
    "\n",
    "# Lista para almacenar DataFrames de los archivos CSV\n",
    "dataframes = []\n",
    "\n",
    "# Lee y carga cada archivo CSV en un DataFrame\n",
    "for archivo in archivos_csv:\n",
    "    df = pd.read_csv(archivo, delimiter=\";\", encoding='latin1')\n",
    "    dataframes.append(df)\n",
    "\n",
    "# Concatena los DataFrames en uno solo\n",
    "resultado = pd.concat(dataframes, ignore_index=True)\n",
    "\n",
    "# Guarda el resultado en un nuevo archivo CSV\n",
    "resultado.to_csv(\"../data/contaminacion.csv\", index=False, sep=\";\")"
   ]
  },
  {
   "cell_type": "code",
   "execution_count": 3,
   "metadata": {},
   "outputs": [
    {
     "data": {
      "text/html": [
       "<div>\n",
       "<style scoped>\n",
       "    .dataframe tbody tr th:only-of-type {\n",
       "        vertical-align: middle;\n",
       "    }\n",
       "\n",
       "    .dataframe tbody tr th {\n",
       "        vertical-align: top;\n",
       "    }\n",
       "\n",
       "    .dataframe thead th {\n",
       "        text-align: right;\n",
       "    }\n",
       "</style>\n",
       "<table border=\"1\" class=\"dataframe\">\n",
       "  <thead>\n",
       "    <tr style=\"text-align: right;\">\n",
       "      <th></th>\n",
       "      <th>Fecha</th>\n",
       "      <th>NMT</th>\n",
       "      <th>SituaciÃ¯Â¿Â½n</th>\n",
       "      <th>Ld</th>\n",
       "      <th>Le</th>\n",
       "      <th>Ln</th>\n",
       "      <th>LAeq24</th>\n",
       "      <th>LAS01</th>\n",
       "      <th>LAS10</th>\n",
       "      <th>LAS50</th>\n",
       "      <th>LAS90</th>\n",
       "      <th>LAS99</th>\n",
       "      <th>Nombre</th>\n",
       "    </tr>\n",
       "  </thead>\n",
       "  <tbody>\n",
       "    <tr>\n",
       "      <th>0</th>\n",
       "      <td>ene-19</td>\n",
       "      <td>1</td>\n",
       "      <td>Paseo de Recoletos</td>\n",
       "      <td>68,5</td>\n",
       "      <td>68,5</td>\n",
       "      <td>65,5</td>\n",
       "      <td>67,8</td>\n",
       "      <td>74,5</td>\n",
       "      <td>71,3</td>\n",
       "      <td>64,9</td>\n",
       "      <td>56,9</td>\n",
       "      <td>49</td>\n",
       "      <td>NaN</td>\n",
       "    </tr>\n",
       "    <tr>\n",
       "      <th>1</th>\n",
       "      <td>ene-19</td>\n",
       "      <td>2</td>\n",
       "      <td>Carlos V</td>\n",
       "      <td>69,9</td>\n",
       "      <td>69,4</td>\n",
       "      <td>66,5</td>\n",
       "      <td>68,9</td>\n",
       "      <td>75,5</td>\n",
       "      <td>71</td>\n",
       "      <td>67,4</td>\n",
       "      <td>60,7</td>\n",
       "      <td>54</td>\n",
       "      <td>NaN</td>\n",
       "    </tr>\n",
       "    <tr>\n",
       "      <th>2</th>\n",
       "      <td>ene-19</td>\n",
       "      <td>3</td>\n",
       "      <td>Plaza del Carmen</td>\n",
       "      <td>62,7</td>\n",
       "      <td>60,6</td>\n",
       "      <td>60,9</td>\n",
       "      <td>61,8</td>\n",
       "      <td>69,9</td>\n",
       "      <td>63,7</td>\n",
       "      <td>57,5</td>\n",
       "      <td>51,6</td>\n",
       "      <td>49,1</td>\n",
       "      <td>NaN</td>\n",
       "    </tr>\n",
       "    <tr>\n",
       "      <th>3</th>\n",
       "      <td>ene-19</td>\n",
       "      <td>4</td>\n",
       "      <td>Plaza de EspaÃ¯Â¿Â½a</td>\n",
       "      <td>65,5</td>\n",
       "      <td>65,3</td>\n",
       "      <td>61,4</td>\n",
       "      <td>64,5</td>\n",
       "      <td>72,5</td>\n",
       "      <td>66,7</td>\n",
       "      <td>62,8</td>\n",
       "      <td>55,5</td>\n",
       "      <td>47,9</td>\n",
       "      <td>NaN</td>\n",
       "    </tr>\n",
       "    <tr>\n",
       "      <th>4</th>\n",
       "      <td>ene-19</td>\n",
       "      <td>5</td>\n",
       "      <td>Barrio del Pilar</td>\n",
       "      <td>61,6</td>\n",
       "      <td>63,3</td>\n",
       "      <td>57,2</td>\n",
       "      <td>61</td>\n",
       "      <td>67,2</td>\n",
       "      <td>62,8</td>\n",
       "      <td>58</td>\n",
       "      <td>47</td>\n",
       "      <td>43,1</td>\n",
       "      <td>NaN</td>\n",
       "    </tr>\n",
       "  </tbody>\n",
       "</table>\n",
       "</div>"
      ],
      "text/plain": [
       "    Fecha  NMT        SituaciÃ¯Â¿Â½n    Ld    Le    Ln LAeq24 LAS01 LAS10  \\\n",
       "0  ene-19    1    Paseo de Recoletos  68,5  68,5  65,5   67,8  74,5  71,3   \n",
       "1  ene-19    2              Carlos V  69,9  69,4  66,5   68,9  75,5    71   \n",
       "2  ene-19    3      Plaza del Carmen  62,7  60,6  60,9   61,8  69,9  63,7   \n",
       "3  ene-19    4  Plaza de EspaÃ¯Â¿Â½a  65,5  65,3  61,4   64,5  72,5  66,7   \n",
       "4  ene-19    5      Barrio del Pilar  61,6  63,3  57,2     61  67,2  62,8   \n",
       "\n",
       "  LAS50 LAS90 LAS99 Nombre  \n",
       "0  64,9  56,9    49    NaN  \n",
       "1  67,4  60,7    54    NaN  \n",
       "2  57,5  51,6  49,1    NaN  \n",
       "3  62,8  55,5  47,9    NaN  \n",
       "4    58    47  43,1    NaN  "
      ]
     },
     "execution_count": 3,
     "metadata": {},
     "output_type": "execute_result"
    }
   ],
   "source": [
    "contaminacion_ori = pd.read_csv('../data/contaminacion.csv', delimiter=\";\", encoding='latin1') #leo el archivo \"contaminacion\"\n",
    "\n",
    "contaminacion = contaminacion_ori.copy() #hago una copia\n",
    "\n",
    "contaminacion.head() #miro qué pinta tiene para empezar a limpiar"
   ]
  },
  {
   "cell_type": "code",
   "execution_count": 4,
   "metadata": {},
   "outputs": [
    {
     "data": {
      "text/plain": [
       "Index(['Fecha', 'NMT', 'SituaciÃ¯Â¿Â½n', 'Ld', 'Le', 'Ln', 'LAeq24', 'LAS01',\n",
       "       'LAS10', 'LAS50', 'LAS90', 'LAS99', 'Nombre'],\n",
       "      dtype='object')"
      ]
     },
     "execution_count": 4,
     "metadata": {},
     "output_type": "execute_result"
    }
   ],
   "source": [
    "contaminacion.columns #nombre de las columnas"
   ]
  },
  {
   "cell_type": "code",
   "execution_count": 5,
   "metadata": {},
   "outputs": [
    {
     "name": "stdout",
     "output_type": "stream",
     "text": [
      "<class 'pandas.core.frame.DataFrame'>\n",
      "RangeIndex: 1488 entries, 0 to 1487\n",
      "Data columns (total 13 columns):\n",
      " #   Column          Non-Null Count  Dtype \n",
      "---  ------          --------------  ----- \n",
      " 0   Fecha           1488 non-null   object\n",
      " 1   NMT             1488 non-null   int64 \n",
      " 2   SituaciÃ¯Â¿Â½n  372 non-null    object\n",
      " 3   Ld              1488 non-null   object\n",
      " 4   Le              1488 non-null   object\n",
      " 5   Ln              1488 non-null   object\n",
      " 6   LAeq24          1488 non-null   object\n",
      " 7   LAS01           1488 non-null   object\n",
      " 8   LAS10           1488 non-null   object\n",
      " 9   LAS50           1488 non-null   object\n",
      " 10  LAS90           1488 non-null   object\n",
      " 11  LAS99           1488 non-null   object\n",
      " 12  Nombre          1116 non-null   object\n",
      "dtypes: int64(1), object(12)\n",
      "memory usage: 151.3+ KB\n"
     ]
    }
   ],
   "source": [
    "contaminacion.info() #info del df"
   ]
  },
  {
   "cell_type": "code",
   "execution_count": 6,
   "metadata": {},
   "outputs": [],
   "source": [
    "columnas_a_eliminar = [\"Ld\", \"Le\", \"Ln\", \"LAS01\", \"LAS10\", \"LAS50\", \"LAS90\", \"LAS99\", \"Nombre\", \"NMT\", \"SituaciÃ¯Â¿Â½n\"]\n",
    "\n",
    "contaminacion = contaminacion.drop(columnas_a_eliminar, axis=1) #elimino toda la info que no me sirve\n"
   ]
  },
  {
   "cell_type": "code",
   "execution_count": 7,
   "metadata": {},
   "outputs": [],
   "source": [
    "contaminacion = contaminacion.rename(columns={'LAeq24': 'contam_media'}) #renombro la columna"
   ]
  },
  {
   "cell_type": "code",
   "execution_count": 8,
   "metadata": {},
   "outputs": [],
   "source": [
    "contaminacion = contaminacion[contaminacion['contam_media'] != \"N/D\"] #elimino las filas con N/D "
   ]
  },
  {
   "cell_type": "code",
   "execution_count": 9,
   "metadata": {},
   "outputs": [
    {
     "name": "stdout",
     "output_type": "stream",
     "text": [
      "<class 'pandas.core.frame.DataFrame'>\n",
      "Int64Index: 1436 entries, 0 to 1487\n",
      "Data columns (total 2 columns):\n",
      " #   Column        Non-Null Count  Dtype \n",
      "---  ------        --------------  ----- \n",
      " 0   Fecha         1436 non-null   object\n",
      " 1   contam_media  1436 non-null   object\n",
      "dtypes: object(2)\n",
      "memory usage: 33.7+ KB\n"
     ]
    }
   ],
   "source": [
    "contaminacion.info() #info actual, borré 52 filas de las que no tenía la medición"
   ]
  },
  {
   "cell_type": "code",
   "execution_count": 10,
   "metadata": {},
   "outputs": [],
   "source": [
    "# Divide la columna \"Fecha\" en \"mes\" y \"año\"\n",
    "contaminacion[['mes', 'año']] = contaminacion['Fecha'].str.split('-', expand=True)"
   ]
  },
  {
   "cell_type": "code",
   "execution_count": 11,
   "metadata": {},
   "outputs": [],
   "source": [
    "# Mapea los valores del mes a sus equivalentes en número\n",
    "meses = {\n",
    "    'ene': '01',\n",
    "    'feb': '02',\n",
    "    'mar': '03',\n",
    "    'abr': '04',\n",
    "    'may': '05',\n",
    "    'jun': '06',\n",
    "    'jul': '07',\n",
    "    'ago': '08',\n",
    "    'sep': '09',\n",
    "    'oct': '10',\n",
    "    'nov': '11',\n",
    "    'dic': '12'\n",
    "\n",
    "}\n",
    "\n",
    "contaminacion['mes'] = contaminacion['mes'].map(meses)"
   ]
  },
  {
   "cell_type": "code",
   "execution_count": 12,
   "metadata": {},
   "outputs": [],
   "source": [
    "# Agrega \"20\" antes del año\n",
    "contaminacion['año'] = '20' + contaminacion['año']"
   ]
  },
  {
   "cell_type": "code",
   "execution_count": 13,
   "metadata": {},
   "outputs": [],
   "source": [
    "# Elimina la columna original \"Fecha\" \n",
    "contaminacion = contaminacion.drop('Fecha', axis=1)"
   ]
  },
  {
   "cell_type": "code",
   "execution_count": 14,
   "metadata": {},
   "outputs": [
    {
     "data": {
      "text/html": [
       "<div>\n",
       "<style scoped>\n",
       "    .dataframe tbody tr th:only-of-type {\n",
       "        vertical-align: middle;\n",
       "    }\n",
       "\n",
       "    .dataframe tbody tr th {\n",
       "        vertical-align: top;\n",
       "    }\n",
       "\n",
       "    .dataframe thead th {\n",
       "        text-align: right;\n",
       "    }\n",
       "</style>\n",
       "<table border=\"1\" class=\"dataframe\">\n",
       "  <thead>\n",
       "    <tr style=\"text-align: right;\">\n",
       "      <th></th>\n",
       "      <th>contam_media</th>\n",
       "      <th>mes</th>\n",
       "      <th>año</th>\n",
       "    </tr>\n",
       "  </thead>\n",
       "  <tbody>\n",
       "    <tr>\n",
       "      <th>0</th>\n",
       "      <td>67,8</td>\n",
       "      <td>01</td>\n",
       "      <td>2019</td>\n",
       "    </tr>\n",
       "    <tr>\n",
       "      <th>1</th>\n",
       "      <td>68,9</td>\n",
       "      <td>01</td>\n",
       "      <td>2019</td>\n",
       "    </tr>\n",
       "    <tr>\n",
       "      <th>2</th>\n",
       "      <td>61,8</td>\n",
       "      <td>01</td>\n",
       "      <td>2019</td>\n",
       "    </tr>\n",
       "    <tr>\n",
       "      <th>3</th>\n",
       "      <td>64,5</td>\n",
       "      <td>01</td>\n",
       "      <td>2019</td>\n",
       "    </tr>\n",
       "    <tr>\n",
       "      <th>4</th>\n",
       "      <td>61</td>\n",
       "      <td>01</td>\n",
       "      <td>2019</td>\n",
       "    </tr>\n",
       "  </tbody>\n",
       "</table>\n",
       "</div>"
      ],
      "text/plain": [
       "  contam_media mes   año\n",
       "0         67,8  01  2019\n",
       "1         68,9  01  2019\n",
       "2         61,8  01  2019\n",
       "3         64,5  01  2019\n",
       "4           61  01  2019"
      ]
     },
     "execution_count": 14,
     "metadata": {},
     "output_type": "execute_result"
    }
   ],
   "source": [
    "contaminacion.head()"
   ]
  },
  {
   "cell_type": "code",
   "execution_count": 15,
   "metadata": {},
   "outputs": [],
   "source": [
    "# Convierte la columna \"contam_media\" a tipo numérico (ya que contiene comas en lugar de puntos)\n",
    "contaminacion['contam_media'] = contaminacion['contam_media'].str.replace(',', '.', regex=True).astype(float)"
   ]
  },
  {
   "cell_type": "code",
   "execution_count": 16,
   "metadata": {},
   "outputs": [],
   "source": [
    "# Agrupa por mes y calcula la media\n",
    "contaminacion = contaminacion.groupby(['mes', 'año'])['contam_media'].mean().reset_index().round(1).astype(str)"
   ]
  },
  {
   "cell_type": "code",
   "execution_count": 17,
   "metadata": {},
   "outputs": [],
   "source": [
    "contaminacion = contaminacion.sort_values(by=['año', 'mes']) #Para ordenar cronológicamente\n",
    "contaminacion = contaminacion.reset_index(drop=True)\n"
   ]
  },
  {
   "cell_type": "code",
   "execution_count": 18,
   "metadata": {},
   "outputs": [],
   "source": [
    "contaminacion = contaminacion[['mes', 'año', 'contam_media']]  # Reordena las columnas"
   ]
  },
  {
   "cell_type": "code",
   "execution_count": 19,
   "metadata": {},
   "outputs": [
    {
     "data": {
      "text/html": [
       "<div>\n",
       "<style scoped>\n",
       "    .dataframe tbody tr th:only-of-type {\n",
       "        vertical-align: middle;\n",
       "    }\n",
       "\n",
       "    .dataframe tbody tr th {\n",
       "        vertical-align: top;\n",
       "    }\n",
       "\n",
       "    .dataframe thead th {\n",
       "        text-align: right;\n",
       "    }\n",
       "</style>\n",
       "<table border=\"1\" class=\"dataframe\">\n",
       "  <thead>\n",
       "    <tr style=\"text-align: right;\">\n",
       "      <th></th>\n",
       "      <th>mes</th>\n",
       "      <th>año</th>\n",
       "      <th>contam_media</th>\n",
       "    </tr>\n",
       "  </thead>\n",
       "  <tbody>\n",
       "    <tr>\n",
       "      <th>0</th>\n",
       "      <td>01</td>\n",
       "      <td>2019</td>\n",
       "      <td>62.7</td>\n",
       "    </tr>\n",
       "    <tr>\n",
       "      <th>1</th>\n",
       "      <td>02</td>\n",
       "      <td>2019</td>\n",
       "      <td>61.9</td>\n",
       "    </tr>\n",
       "    <tr>\n",
       "      <th>2</th>\n",
       "      <td>03</td>\n",
       "      <td>2019</td>\n",
       "      <td>61.7</td>\n",
       "    </tr>\n",
       "    <tr>\n",
       "      <th>3</th>\n",
       "      <td>04</td>\n",
       "      <td>2019</td>\n",
       "      <td>61.6</td>\n",
       "    </tr>\n",
       "    <tr>\n",
       "      <th>4</th>\n",
       "      <td>05</td>\n",
       "      <td>2019</td>\n",
       "      <td>61.0</td>\n",
       "    </tr>\n",
       "  </tbody>\n",
       "</table>\n",
       "</div>"
      ],
      "text/plain": [
       "  mes   año contam_media\n",
       "0  01  2019         62.7\n",
       "1  02  2019         61.9\n",
       "2  03  2019         61.7\n",
       "3  04  2019         61.6\n",
       "4  05  2019         61.0"
      ]
     },
     "execution_count": 19,
     "metadata": {},
     "output_type": "execute_result"
    }
   ],
   "source": [
    "contaminacion.head()"
   ]
  },
  {
   "cell_type": "code",
   "execution_count": 23,
   "metadata": {},
   "outputs": [],
   "source": [
    "contaminacion.to_csv('contaminacion_limpo.csv', index=False)\n"
   ]
  },
  {
   "cell_type": "code",
   "execution_count": null,
   "metadata": {},
   "outputs": [],
   "source": []
  },
  {
   "cell_type": "code",
   "execution_count": null,
   "metadata": {},
   "outputs": [],
   "source": []
  },
  {
   "cell_type": "markdown",
   "metadata": {},
   "source": [
    "LIMPIEZA ARCHIVO INE "
   ]
  },
  {
   "cell_type": "code",
   "execution_count": 20,
   "metadata": {},
   "outputs": [
    {
     "data": {
      "text/html": [
       "<div>\n",
       "<style scoped>\n",
       "    .dataframe tbody tr th:only-of-type {\n",
       "        vertical-align: middle;\n",
       "    }\n",
       "\n",
       "    .dataframe tbody tr th {\n",
       "        vertical-align: top;\n",
       "    }\n",
       "\n",
       "    .dataframe thead th {\n",
       "        text-align: right;\n",
       "    }\n",
       "</style>\n",
       "<table border=\"1\" class=\"dataframe\">\n",
       "  <thead>\n",
       "    <tr style=\"text-align: right;\">\n",
       "      <th></th>\n",
       "      <th>Total Nacional</th>\n",
       "      <th>Comunidades y Ciudades Autónomas</th>\n",
       "      <th>Edad de la madre</th>\n",
       "      <th>Tipo de dato</th>\n",
       "      <th>Periodo</th>\n",
       "      <th>Total</th>\n",
       "    </tr>\n",
       "  </thead>\n",
       "  <tbody>\n",
       "    <tr>\n",
       "      <th>0</th>\n",
       "      <td>Total Nacional</td>\n",
       "      <td>13 Madrid, Comunidad de</td>\n",
       "      <td>Todas las edades</td>\n",
       "      <td>Dato base</td>\n",
       "      <td>2022M12</td>\n",
       "      <td>4.307</td>\n",
       "    </tr>\n",
       "    <tr>\n",
       "      <th>1</th>\n",
       "      <td>Total Nacional</td>\n",
       "      <td>13 Madrid, Comunidad de</td>\n",
       "      <td>Todas las edades</td>\n",
       "      <td>Dato base</td>\n",
       "      <td>2022M11</td>\n",
       "      <td>4.461</td>\n",
       "    </tr>\n",
       "    <tr>\n",
       "      <th>2</th>\n",
       "      <td>Total Nacional</td>\n",
       "      <td>13 Madrid, Comunidad de</td>\n",
       "      <td>Todas las edades</td>\n",
       "      <td>Dato base</td>\n",
       "      <td>2022M10</td>\n",
       "      <td>4.513</td>\n",
       "    </tr>\n",
       "    <tr>\n",
       "      <th>3</th>\n",
       "      <td>Total Nacional</td>\n",
       "      <td>13 Madrid, Comunidad de</td>\n",
       "      <td>Todas las edades</td>\n",
       "      <td>Dato base</td>\n",
       "      <td>2022M09</td>\n",
       "      <td>4.439</td>\n",
       "    </tr>\n",
       "    <tr>\n",
       "      <th>4</th>\n",
       "      <td>Total Nacional</td>\n",
       "      <td>13 Madrid, Comunidad de</td>\n",
       "      <td>Todas las edades</td>\n",
       "      <td>Dato base</td>\n",
       "      <td>2022M08</td>\n",
       "      <td>4.423</td>\n",
       "    </tr>\n",
       "  </tbody>\n",
       "</table>\n",
       "</div>"
      ],
      "text/plain": [
       "   Total Nacional Comunidades y Ciudades Autónomas  Edad de la madre  \\\n",
       "0  Total Nacional          13 Madrid, Comunidad de  Todas las edades   \n",
       "1  Total Nacional          13 Madrid, Comunidad de  Todas las edades   \n",
       "2  Total Nacional          13 Madrid, Comunidad de  Todas las edades   \n",
       "3  Total Nacional          13 Madrid, Comunidad de  Todas las edades   \n",
       "4  Total Nacional          13 Madrid, Comunidad de  Todas las edades   \n",
       "\n",
       "  Tipo de dato  Periodo  Total  \n",
       "0    Dato base  2022M12  4.307  \n",
       "1    Dato base  2022M11  4.461  \n",
       "2    Dato base  2022M10  4.513  \n",
       "3    Dato base  2022M09  4.439  \n",
       "4    Dato base  2022M08  4.423  "
      ]
     },
     "execution_count": 20,
     "metadata": {},
     "output_type": "execute_result"
    }
   ],
   "source": [
    "INE_ori = pd.read_csv('../data/INE.csv', delimiter=\";\", encoding='latin1') #leo el archivo \"INE\"\n",
    "\n",
    "INE = INE_ori.copy() #hago una copia\n",
    "\n",
    "INE.head() #miro qué pinta tiene para empezar a limpiar"
   ]
  },
  {
   "cell_type": "code",
   "execution_count": 21,
   "metadata": {},
   "outputs": [
    {
     "data": {
      "text/plain": [
       "Index(['Total Nacional', 'Comunidades y Ciudades Autónomas',\n",
       "       'Edad de la madre', 'Tipo de dato', 'Periodo', 'Total'],\n",
       "      dtype='object')"
      ]
     },
     "execution_count": 21,
     "metadata": {},
     "output_type": "execute_result"
    }
   ],
   "source": [
    "INE.columns #nombre de las columnas"
   ]
  },
  {
   "cell_type": "code",
   "execution_count": 22,
   "metadata": {},
   "outputs": [],
   "source": [
    "columnas_a_eliminar = ['Total Nacional', 'Comunidades y Ciudades Autónomas', 'Edad de la madre', 'Tipo de dato',]\n",
    "\n",
    "INE = INE.drop(columnas_a_eliminar, axis=1) #elimino toda la info que no me sirve"
   ]
  },
  {
   "cell_type": "code",
   "execution_count": 23,
   "metadata": {},
   "outputs": [
    {
     "name": "stdout",
     "output_type": "stream",
     "text": [
      "<class 'pandas.core.frame.DataFrame'>\n",
      "RangeIndex: 48 entries, 0 to 47\n",
      "Data columns (total 2 columns):\n",
      " #   Column   Non-Null Count  Dtype  \n",
      "---  ------   --------------  -----  \n",
      " 0   Periodo  48 non-null     object \n",
      " 1   Total    48 non-null     float64\n",
      "dtypes: float64(1), object(1)\n",
      "memory usage: 900.0+ bytes\n"
     ]
    }
   ],
   "source": [
    "INE.info()"
   ]
  },
  {
   "cell_type": "code",
   "execution_count": 24,
   "metadata": {},
   "outputs": [
    {
     "data": {
      "text/html": [
       "<div>\n",
       "<style scoped>\n",
       "    .dataframe tbody tr th:only-of-type {\n",
       "        vertical-align: middle;\n",
       "    }\n",
       "\n",
       "    .dataframe tbody tr th {\n",
       "        vertical-align: top;\n",
       "    }\n",
       "\n",
       "    .dataframe thead th {\n",
       "        text-align: right;\n",
       "    }\n",
       "</style>\n",
       "<table border=\"1\" class=\"dataframe\">\n",
       "  <thead>\n",
       "    <tr style=\"text-align: right;\">\n",
       "      <th></th>\n",
       "      <th>Total</th>\n",
       "      <th>año</th>\n",
       "      <th>mes</th>\n",
       "    </tr>\n",
       "  </thead>\n",
       "  <tbody>\n",
       "    <tr>\n",
       "      <th>0</th>\n",
       "      <td>4.307</td>\n",
       "      <td>2022</td>\n",
       "      <td>12</td>\n",
       "    </tr>\n",
       "    <tr>\n",
       "      <th>1</th>\n",
       "      <td>4.461</td>\n",
       "      <td>2022</td>\n",
       "      <td>11</td>\n",
       "    </tr>\n",
       "    <tr>\n",
       "      <th>2</th>\n",
       "      <td>4.513</td>\n",
       "      <td>2022</td>\n",
       "      <td>10</td>\n",
       "    </tr>\n",
       "    <tr>\n",
       "      <th>3</th>\n",
       "      <td>4.439</td>\n",
       "      <td>2022</td>\n",
       "      <td>09</td>\n",
       "    </tr>\n",
       "    <tr>\n",
       "      <th>4</th>\n",
       "      <td>4.423</td>\n",
       "      <td>2022</td>\n",
       "      <td>08</td>\n",
       "    </tr>\n",
       "  </tbody>\n",
       "</table>\n",
       "</div>"
      ],
      "text/plain": [
       "   Total   año mes\n",
       "0  4.307  2022  12\n",
       "1  4.461  2022  11\n",
       "2  4.513  2022  10\n",
       "3  4.439  2022  09\n",
       "4  4.423  2022  08"
      ]
     },
     "execution_count": 24,
     "metadata": {},
     "output_type": "execute_result"
    }
   ],
   "source": [
    "# Divide la columna \"Periodo\" en \"año\" y \"mes\"\n",
    "INE[['año', 'mes']] = INE['Periodo'].str.split('M', expand=True)\n",
    "INE = INE.drop('Periodo', axis=1)\n",
    "INE.head()\n"
   ]
  },
  {
   "cell_type": "code",
   "execution_count": 25,
   "metadata": {},
   "outputs": [],
   "source": [
    "INE = INE.sort_values(by=['año', 'mes']) #Para ordenar cronológicamente\n",
    "INE = INE.reset_index(drop=True)"
   ]
  },
  {
   "cell_type": "code",
   "execution_count": 26,
   "metadata": {},
   "outputs": [],
   "source": [
    "INE = INE[['mes', 'año', 'Total']]  # Reordena las columnas"
   ]
  },
  {
   "cell_type": "code",
   "execution_count": 30,
   "metadata": {},
   "outputs": [
    {
     "data": {
      "text/html": [
       "<div>\n",
       "<style scoped>\n",
       "    .dataframe tbody tr th:only-of-type {\n",
       "        vertical-align: middle;\n",
       "    }\n",
       "\n",
       "    .dataframe tbody tr th {\n",
       "        vertical-align: top;\n",
       "    }\n",
       "\n",
       "    .dataframe thead th {\n",
       "        text-align: right;\n",
       "    }\n",
       "</style>\n",
       "<table border=\"1\" class=\"dataframe\">\n",
       "  <thead>\n",
       "    <tr style=\"text-align: right;\">\n",
       "      <th></th>\n",
       "      <th>mes</th>\n",
       "      <th>año</th>\n",
       "      <th>Total</th>\n",
       "    </tr>\n",
       "  </thead>\n",
       "  <tbody>\n",
       "    <tr>\n",
       "      <th>0</th>\n",
       "      <td>01</td>\n",
       "      <td>2019</td>\n",
       "      <td>4.705</td>\n",
       "    </tr>\n",
       "    <tr>\n",
       "      <th>1</th>\n",
       "      <td>02</td>\n",
       "      <td>2019</td>\n",
       "      <td>4.245</td>\n",
       "    </tr>\n",
       "    <tr>\n",
       "      <th>2</th>\n",
       "      <td>03</td>\n",
       "      <td>2019</td>\n",
       "      <td>4.560</td>\n",
       "    </tr>\n",
       "    <tr>\n",
       "      <th>3</th>\n",
       "      <td>04</td>\n",
       "      <td>2019</td>\n",
       "      <td>4.699</td>\n",
       "    </tr>\n",
       "    <tr>\n",
       "      <th>4</th>\n",
       "      <td>05</td>\n",
       "      <td>2019</td>\n",
       "      <td>4.786</td>\n",
       "    </tr>\n",
       "  </tbody>\n",
       "</table>\n",
       "</div>"
      ],
      "text/plain": [
       "  mes   año  Total\n",
       "0  01  2019  4.705\n",
       "1  02  2019  4.245\n",
       "2  03  2019  4.560\n",
       "3  04  2019  4.699\n",
       "4  05  2019  4.786"
      ]
     },
     "execution_count": 30,
     "metadata": {},
     "output_type": "execute_result"
    }
   ],
   "source": [
    "INE.head()"
   ]
  },
  {
   "cell_type": "code",
   "execution_count": 29,
   "metadata": {},
   "outputs": [],
   "source": [
    "INE.to_csv('INE_limpio.csv', index=False)"
   ]
  },
  {
   "cell_type": "code",
   "execution_count": null,
   "metadata": {},
   "outputs": [],
   "source": []
  }
 ],
 "metadata": {
  "kernelspec": {
   "display_name": "Python 3.11.4 ('base')",
   "language": "python",
   "name": "python3"
  },
  "language_info": {
   "codemirror_mode": {
    "name": "ipython",
    "version": 3
   },
   "file_extension": ".py",
   "mimetype": "text/x-python",
   "name": "python",
   "nbconvert_exporter": "python",
   "pygments_lexer": "ipython3",
   "version": "3.11.4"
  },
  "orig_nbformat": 4,
  "vscode": {
   "interpreter": {
    "hash": "a82bd0a769c5b969fd854d2762f3e3ec71d2efb7e7ec84505984acf550a1b7e1"
   }
  }
 },
 "nbformat": 4,
 "nbformat_minor": 2
}
