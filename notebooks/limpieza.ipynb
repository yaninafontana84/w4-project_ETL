{
 "cells": [
  {
   "cell_type": "code",
   "execution_count": 1,
   "metadata": {},
   "outputs": [],
   "source": [
    "# librerias a importar\n",
    "\n",
    "import pandas as pd\n",
    "pd.set_option('display.max_columns', None)\n",
    "\n",
    "import numpy as np\n",
    "\n",
    "import warnings\n",
    "warnings.filterwarnings('ignore')\n"
   ]
  },
  {
   "cell_type": "code",
   "execution_count": 2,
   "metadata": {},
   "outputs": [],
   "source": [
    "archivos_csv = [\"../data/Anio2019.csv\", \"../data/Anio2020.csv\", \"../data/Anio2021.csv\", \"../data/Anio2022.csv\"]\n",
    "\n",
    "# Lista para almacenar DataFrames de los archivos CSV\n",
    "dataframes = []\n",
    "\n",
    "# Lee y carga cada archivo CSV en un DataFrame\n",
    "for archivo in archivos_csv:\n",
    "    df = pd.read_csv(archivo, delimiter=\";\", encoding='latin1')\n",
    "    dataframes.append(df)\n",
    "\n",
    "# Concatena los DataFrames en uno solo\n",
    "resultado = pd.concat(dataframes, ignore_index=True)\n",
    "\n",
    "# Guarda el resultado en un nuevo archivo CSV\n",
    "resultado.to_csv(\"../data/contaminacion.csv\", index=False, sep=\";\")"
   ]
  },
  {
   "cell_type": "code",
   "execution_count": 3,
   "metadata": {},
   "outputs": [
    {
     "data": {
      "text/html": [
       "<div>\n",
       "<style scoped>\n",
       "    .dataframe tbody tr th:only-of-type {\n",
       "        vertical-align: middle;\n",
       "    }\n",
       "\n",
       "    .dataframe tbody tr th {\n",
       "        vertical-align: top;\n",
       "    }\n",
       "\n",
       "    .dataframe thead th {\n",
       "        text-align: right;\n",
       "    }\n",
       "</style>\n",
       "<table border=\"1\" class=\"dataframe\">\n",
       "  <thead>\n",
       "    <tr style=\"text-align: right;\">\n",
       "      <th></th>\n",
       "      <th>Fecha</th>\n",
       "      <th>NMT</th>\n",
       "      <th>SituaciÃ¯Â¿Â½n</th>\n",
       "      <th>Ld</th>\n",
       "      <th>Le</th>\n",
       "      <th>Ln</th>\n",
       "      <th>LAeq24</th>\n",
       "      <th>LAS01</th>\n",
       "      <th>LAS10</th>\n",
       "      <th>LAS50</th>\n",
       "      <th>LAS90</th>\n",
       "      <th>LAS99</th>\n",
       "      <th>Nombre</th>\n",
       "    </tr>\n",
       "  </thead>\n",
       "  <tbody>\n",
       "    <tr>\n",
       "      <th>0</th>\n",
       "      <td>ene-19</td>\n",
       "      <td>1</td>\n",
       "      <td>Paseo de Recoletos</td>\n",
       "      <td>68,5</td>\n",
       "      <td>68,5</td>\n",
       "      <td>65,5</td>\n",
       "      <td>67,8</td>\n",
       "      <td>74,5</td>\n",
       "      <td>71,3</td>\n",
       "      <td>64,9</td>\n",
       "      <td>56,9</td>\n",
       "      <td>49</td>\n",
       "      <td>NaN</td>\n",
       "    </tr>\n",
       "    <tr>\n",
       "      <th>1</th>\n",
       "      <td>ene-19</td>\n",
       "      <td>2</td>\n",
       "      <td>Carlos V</td>\n",
       "      <td>69,9</td>\n",
       "      <td>69,4</td>\n",
       "      <td>66,5</td>\n",
       "      <td>68,9</td>\n",
       "      <td>75,5</td>\n",
       "      <td>71</td>\n",
       "      <td>67,4</td>\n",
       "      <td>60,7</td>\n",
       "      <td>54</td>\n",
       "      <td>NaN</td>\n",
       "    </tr>\n",
       "    <tr>\n",
       "      <th>2</th>\n",
       "      <td>ene-19</td>\n",
       "      <td>3</td>\n",
       "      <td>Plaza del Carmen</td>\n",
       "      <td>62,7</td>\n",
       "      <td>60,6</td>\n",
       "      <td>60,9</td>\n",
       "      <td>61,8</td>\n",
       "      <td>69,9</td>\n",
       "      <td>63,7</td>\n",
       "      <td>57,5</td>\n",
       "      <td>51,6</td>\n",
       "      <td>49,1</td>\n",
       "      <td>NaN</td>\n",
       "    </tr>\n",
       "    <tr>\n",
       "      <th>3</th>\n",
       "      <td>ene-19</td>\n",
       "      <td>4</td>\n",
       "      <td>Plaza de EspaÃ¯Â¿Â½a</td>\n",
       "      <td>65,5</td>\n",
       "      <td>65,3</td>\n",
       "      <td>61,4</td>\n",
       "      <td>64,5</td>\n",
       "      <td>72,5</td>\n",
       "      <td>66,7</td>\n",
       "      <td>62,8</td>\n",
       "      <td>55,5</td>\n",
       "      <td>47,9</td>\n",
       "      <td>NaN</td>\n",
       "    </tr>\n",
       "    <tr>\n",
       "      <th>4</th>\n",
       "      <td>ene-19</td>\n",
       "      <td>5</td>\n",
       "      <td>Barrio del Pilar</td>\n",
       "      <td>61,6</td>\n",
       "      <td>63,3</td>\n",
       "      <td>57,2</td>\n",
       "      <td>61</td>\n",
       "      <td>67,2</td>\n",
       "      <td>62,8</td>\n",
       "      <td>58</td>\n",
       "      <td>47</td>\n",
       "      <td>43,1</td>\n",
       "      <td>NaN</td>\n",
       "    </tr>\n",
       "  </tbody>\n",
       "</table>\n",
       "</div>"
      ],
      "text/plain": [
       "    Fecha  NMT        SituaciÃ¯Â¿Â½n    Ld    Le    Ln LAeq24 LAS01 LAS10  \\\n",
       "0  ene-19    1    Paseo de Recoletos  68,5  68,5  65,5   67,8  74,5  71,3   \n",
       "1  ene-19    2              Carlos V  69,9  69,4  66,5   68,9  75,5    71   \n",
       "2  ene-19    3      Plaza del Carmen  62,7  60,6  60,9   61,8  69,9  63,7   \n",
       "3  ene-19    4  Plaza de EspaÃ¯Â¿Â½a  65,5  65,3  61,4   64,5  72,5  66,7   \n",
       "4  ene-19    5      Barrio del Pilar  61,6  63,3  57,2     61  67,2  62,8   \n",
       "\n",
       "  LAS50 LAS90 LAS99 Nombre  \n",
       "0  64,9  56,9    49    NaN  \n",
       "1  67,4  60,7    54    NaN  \n",
       "2  57,5  51,6  49,1    NaN  \n",
       "3  62,8  55,5  47,9    NaN  \n",
       "4    58    47  43,1    NaN  "
      ]
     },
     "execution_count": 3,
     "metadata": {},
     "output_type": "execute_result"
    }
   ],
   "source": [
    "contaminacion_ori = pd.read_csv('../data/contaminacion.csv', delimiter=\";\", encoding='latin1') #leo el archivo \"contaminacion\"\n",
    "\n",
    "contaminacion = contaminacion_ori.copy() #hago una copia\n",
    "\n",
    "contaminacion.head() #miro qué pinta tiene para empezar a limpiar"
   ]
  },
  {
   "cell_type": "code",
   "execution_count": 4,
   "metadata": {},
   "outputs": [
    {
     "data": {
      "text/plain": [
       "Index(['Fecha', 'NMT', 'SituaciÃ¯Â¿Â½n', 'Ld', 'Le', 'Ln', 'LAeq24', 'LAS01',\n",
       "       'LAS10', 'LAS50', 'LAS90', 'LAS99', 'Nombre'],\n",
       "      dtype='object')"
      ]
     },
     "execution_count": 4,
     "metadata": {},
     "output_type": "execute_result"
    }
   ],
   "source": [
    "contaminacion.columns #nombre de las columnas"
   ]
  },
  {
   "cell_type": "code",
   "execution_count": 5,
   "metadata": {},
   "outputs": [
    {
     "name": "stdout",
     "output_type": "stream",
     "text": [
      "<class 'pandas.core.frame.DataFrame'>\n",
      "RangeIndex: 1488 entries, 0 to 1487\n",
      "Data columns (total 13 columns):\n",
      " #   Column          Non-Null Count  Dtype \n",
      "---  ------          --------------  ----- \n",
      " 0   Fecha           1488 non-null   object\n",
      " 1   NMT             1488 non-null   int64 \n",
      " 2   SituaciÃ¯Â¿Â½n  372 non-null    object\n",
      " 3   Ld              1488 non-null   object\n",
      " 4   Le              1488 non-null   object\n",
      " 5   Ln              1488 non-null   object\n",
      " 6   LAeq24          1488 non-null   object\n",
      " 7   LAS01           1488 non-null   object\n",
      " 8   LAS10           1488 non-null   object\n",
      " 9   LAS50           1488 non-null   object\n",
      " 10  LAS90           1488 non-null   object\n",
      " 11  LAS99           1488 non-null   object\n",
      " 12  Nombre          1116 non-null   object\n",
      "dtypes: int64(1), object(12)\n",
      "memory usage: 151.3+ KB\n"
     ]
    }
   ],
   "source": [
    "contaminacion.info() #info del df"
   ]
  },
  {
   "cell_type": "code",
   "execution_count": 6,
   "metadata": {},
   "outputs": [],
   "source": [
    "columnas_a_eliminar = [\"Ld\", \"Le\", \"Ln\", \"LAS01\", \"LAS10\", \"LAS50\", \"LAS90\", \"LAS99\", \"Nombre\", \"NMT\", \"SituaciÃ¯Â¿Â½n\"]\n",
    "\n",
    "contaminacion = contaminacion.drop(columnas_a_eliminar, axis=1) #elimino toda la info que no me sirve\n"
   ]
  },
  {
   "cell_type": "code",
   "execution_count": 7,
   "metadata": {},
   "outputs": [],
   "source": [
    "contaminacion = contaminacion.rename(columns={'LAeq24': 'contam_media'}) #renombro la columna"
   ]
  },
  {
   "cell_type": "code",
   "execution_count": 8,
   "metadata": {},
   "outputs": [
    {
     "data": {
      "text/html": [
       "<div>\n",
       "<style scoped>\n",
       "    .dataframe tbody tr th:only-of-type {\n",
       "        vertical-align: middle;\n",
       "    }\n",
       "\n",
       "    .dataframe tbody tr th {\n",
       "        vertical-align: top;\n",
       "    }\n",
       "\n",
       "    .dataframe thead th {\n",
       "        text-align: right;\n",
       "    }\n",
       "</style>\n",
       "<table border=\"1\" class=\"dataframe\">\n",
       "  <thead>\n",
       "    <tr style=\"text-align: right;\">\n",
       "      <th></th>\n",
       "      <th>Fecha</th>\n",
       "      <th>contam_media</th>\n",
       "    </tr>\n",
       "  </thead>\n",
       "  <tbody>\n",
       "    <tr>\n",
       "      <th>0</th>\n",
       "      <td>ene-19</td>\n",
       "      <td>67,8</td>\n",
       "    </tr>\n",
       "    <tr>\n",
       "      <th>1</th>\n",
       "      <td>ene-19</td>\n",
       "      <td>68,9</td>\n",
       "    </tr>\n",
       "    <tr>\n",
       "      <th>2</th>\n",
       "      <td>ene-19</td>\n",
       "      <td>61,8</td>\n",
       "    </tr>\n",
       "    <tr>\n",
       "      <th>3</th>\n",
       "      <td>ene-19</td>\n",
       "      <td>64,5</td>\n",
       "    </tr>\n",
       "    <tr>\n",
       "      <th>4</th>\n",
       "      <td>ene-19</td>\n",
       "      <td>61</td>\n",
       "    </tr>\n",
       "  </tbody>\n",
       "</table>\n",
       "</div>"
      ],
      "text/plain": [
       "    Fecha contam_media\n",
       "0  ene-19         67,8\n",
       "1  ene-19         68,9\n",
       "2  ene-19         61,8\n",
       "3  ene-19         64,5\n",
       "4  ene-19           61"
      ]
     },
     "execution_count": 8,
     "metadata": {},
     "output_type": "execute_result"
    }
   ],
   "source": [
    "contaminacion.head()"
   ]
  },
  {
   "cell_type": "code",
   "execution_count": 9,
   "metadata": {},
   "outputs": [],
   "source": [
    "contaminacion = contaminacion[contaminacion['contam_media'] != \"N/D\"] #elimino las filas con N/D "
   ]
  },
  {
   "cell_type": "code",
   "execution_count": 10,
   "metadata": {},
   "outputs": [
    {
     "name": "stdout",
     "output_type": "stream",
     "text": [
      "<class 'pandas.core.frame.DataFrame'>\n",
      "Int64Index: 1436 entries, 0 to 1487\n",
      "Data columns (total 2 columns):\n",
      " #   Column        Non-Null Count  Dtype \n",
      "---  ------        --------------  ----- \n",
      " 0   Fecha         1436 non-null   object\n",
      " 1   contam_media  1436 non-null   object\n",
      "dtypes: object(2)\n",
      "memory usage: 33.7+ KB\n"
     ]
    }
   ],
   "source": [
    "contaminacion.info() #info actual, borré 52 filas de las que no tenía la medición"
   ]
  },
  {
   "cell_type": "code",
   "execution_count": 11,
   "metadata": {},
   "outputs": [
    {
     "data": {
      "text/plain": [
       "array(['67,8', '68,9', '61,8', '64,5', '61', '70,5', '66,2', '64,6',\n",
       "       '68,3', '64,7', '60,2', '61,1', '60,9', '69,7', '60,6', '49,3',\n",
       "       '65,8', '61,7', '62,3', '67,2', '56,6', '62,8', '58,5', '65,5',\n",
       "       '57,5', '67,6', '69', '63,3', '68,1', '63,6', '57,4', '64,2',\n",
       "       '61,3', '56,1', '57,1', '59,5', '66,3', '48,3', '65,7', '60,1',\n",
       "       '67,1', '56,4', '59,2', '62,2', '54,1', '62,5', '66,4', '59,9',\n",
       "       '56,3', '57', '67,4', '69,2', '70,1', '66', '64,3', '62,9', '61,4',\n",
       "       '60,4', '56,7', '59,3', '48,9', '65,4', '58,8', '54,5', '61,9',\n",
       "       '65', '56,5', '66,6', '62', '64', '60,7', '70,3', '64,4', '66,8',\n",
       "       '63,4', '59', '63,9', '60,5', '59,1', '63,7', '49', '66,5', '61,6',\n",
       "       '59,4', '54,8', '55,7', '56,9', '65,9', '65,1', '63,1', '58,2',\n",
       "       '59,6', '48,4', '64,9', '65,3', '58,7', '60,8', '55,1', '66,9',\n",
       "       '58,6', '66,1', '63,2', '58', '56,8', '60,3', '55,6', '61,2',\n",
       "       '64,8', '71,7', '62,6', '69,3', '62,1', '63', '57,2', '47,2',\n",
       "       '58,3', '60', '54', '57,9', '55,3', '55,4', '68', '58,9', '57,3',\n",
       "       '58,1', '53,4', '63,5', '54,3', '54,7', '69,6', '68,6', '70',\n",
       "       '63,8', '57,7', '59,7', '47,4', '55,9', '61,5', '56,2', '72,4',\n",
       "       '69,1', '62,7', '70,8', '62,4', '47,9', '69,5', '71', '47', '55,5',\n",
       "       '69,8', '71,2', '64,1', '49,5', '67,5', '67,3', '65,6', '67',\n",
       "       '68,8', '70,4', '47,6', '56', '65,2', '59,8', '58,4', '53,7',\n",
       "       '57,6', '53,3', '53,9', '54,6', '52,8', '52,5', '46,2', '52,9',\n",
       "       '48,2', '54,9', '55,2', '54,2', '55,8', '48,7', '57,8', '54,4',\n",
       "       '55', '53,6', '48,1', '53,8', '67,9', '68,2', '66,7', '68,4',\n",
       "       '47,7', '67,0', '54,0', '52,4', '53,1', '48,5', '67,7', '47,3',\n",
       "       '49,4', '47,5', '46,4', '53', '71,5', '48', '46,3', '69,9', '47,1',\n",
       "       '69,4', '46,9', '72,8', '51,1', '72,9', '53,5', '68,5'],\n",
       "      dtype=object)"
      ]
     },
     "execution_count": 11,
     "metadata": {},
     "output_type": "execute_result"
    }
   ],
   "source": [
    "contaminacion[\"contam_media\"].unique()  #corroboración de que no tengo N/D"
   ]
  },
  {
   "cell_type": "code",
   "execution_count": 12,
   "metadata": {},
   "outputs": [
    {
     "data": {
      "text/html": [
       "<div>\n",
       "<style scoped>\n",
       "    .dataframe tbody tr th:only-of-type {\n",
       "        vertical-align: middle;\n",
       "    }\n",
       "\n",
       "    .dataframe tbody tr th {\n",
       "        vertical-align: top;\n",
       "    }\n",
       "\n",
       "    .dataframe thead th {\n",
       "        text-align: right;\n",
       "    }\n",
       "</style>\n",
       "<table border=\"1\" class=\"dataframe\">\n",
       "  <thead>\n",
       "    <tr style=\"text-align: right;\">\n",
       "      <th></th>\n",
       "      <th>Fecha</th>\n",
       "      <th>contam_media</th>\n",
       "    </tr>\n",
       "  </thead>\n",
       "  <tbody>\n",
       "    <tr>\n",
       "      <th>0</th>\n",
       "      <td>ene-19</td>\n",
       "      <td>67,8</td>\n",
       "    </tr>\n",
       "    <tr>\n",
       "      <th>1</th>\n",
       "      <td>ene-19</td>\n",
       "      <td>68,9</td>\n",
       "    </tr>\n",
       "    <tr>\n",
       "      <th>2</th>\n",
       "      <td>ene-19</td>\n",
       "      <td>61,8</td>\n",
       "    </tr>\n",
       "    <tr>\n",
       "      <th>3</th>\n",
       "      <td>ene-19</td>\n",
       "      <td>64,5</td>\n",
       "    </tr>\n",
       "    <tr>\n",
       "      <th>4</th>\n",
       "      <td>ene-19</td>\n",
       "      <td>61</td>\n",
       "    </tr>\n",
       "  </tbody>\n",
       "</table>\n",
       "</div>"
      ],
      "text/plain": [
       "    Fecha contam_media\n",
       "0  ene-19         67,8\n",
       "1  ene-19         68,9\n",
       "2  ene-19         61,8\n",
       "3  ene-19         64,5\n",
       "4  ene-19           61"
      ]
     },
     "execution_count": 12,
     "metadata": {},
     "output_type": "execute_result"
    }
   ],
   "source": [
    "contaminacion.head()"
   ]
  },
  {
   "cell_type": "code",
   "execution_count": 13,
   "metadata": {},
   "outputs": [],
   "source": [
    "# Divide la columna \"Fecha\" en \"mes\" y \"año\"\n",
    "contaminacion[['mes', 'año']] = contaminacion['Fecha'].str.split('-', expand=True)"
   ]
  },
  {
   "cell_type": "code",
   "execution_count": 14,
   "metadata": {},
   "outputs": [],
   "source": [
    "# Mapea los valores del mes a sus nombres abreviados\n",
    "meses = {\n",
    "    'ene': 'enero',\n",
    "    'feb': 'febrero',\n",
    "    'mar': 'marzo',\n",
    "    'abr': 'abril',\n",
    "    'may': 'mayo',\n",
    "    'jun': 'junio',\n",
    "    'jul': 'julio',\n",
    "    'ago': 'agosto',\n",
    "    'sep': 'septiembre',\n",
    "    'oct': 'octubre',\n",
    "    'nov': 'noviembre',\n",
    "    'dic': 'diciembre'\n",
    "\n",
    "}\n",
    "\n",
    "contaminacion['mes'] = contaminacion['mes'].map(meses)"
   ]
  },
  {
   "cell_type": "code",
   "execution_count": 15,
   "metadata": {},
   "outputs": [],
   "source": [
    "# Agrega \"20\" antes del año\n",
    "contaminacion['año'] = '20' + contaminacion['año']"
   ]
  },
  {
   "cell_type": "code",
   "execution_count": 16,
   "metadata": {},
   "outputs": [],
   "source": [
    "# Elimina la columna original \"Fecha\" \n",
    "contaminacion = contaminacion.drop('Fecha', axis=1)"
   ]
  },
  {
   "cell_type": "code",
   "execution_count": 17,
   "metadata": {},
   "outputs": [
    {
     "data": {
      "text/html": [
       "<div>\n",
       "<style scoped>\n",
       "    .dataframe tbody tr th:only-of-type {\n",
       "        vertical-align: middle;\n",
       "    }\n",
       "\n",
       "    .dataframe tbody tr th {\n",
       "        vertical-align: top;\n",
       "    }\n",
       "\n",
       "    .dataframe thead th {\n",
       "        text-align: right;\n",
       "    }\n",
       "</style>\n",
       "<table border=\"1\" class=\"dataframe\">\n",
       "  <thead>\n",
       "    <tr style=\"text-align: right;\">\n",
       "      <th></th>\n",
       "      <th>contam_media</th>\n",
       "      <th>mes</th>\n",
       "      <th>año</th>\n",
       "    </tr>\n",
       "  </thead>\n",
       "  <tbody>\n",
       "    <tr>\n",
       "      <th>0</th>\n",
       "      <td>67,8</td>\n",
       "      <td>enero</td>\n",
       "      <td>2019</td>\n",
       "    </tr>\n",
       "    <tr>\n",
       "      <th>1</th>\n",
       "      <td>68,9</td>\n",
       "      <td>enero</td>\n",
       "      <td>2019</td>\n",
       "    </tr>\n",
       "    <tr>\n",
       "      <th>2</th>\n",
       "      <td>61,8</td>\n",
       "      <td>enero</td>\n",
       "      <td>2019</td>\n",
       "    </tr>\n",
       "    <tr>\n",
       "      <th>3</th>\n",
       "      <td>64,5</td>\n",
       "      <td>enero</td>\n",
       "      <td>2019</td>\n",
       "    </tr>\n",
       "    <tr>\n",
       "      <th>4</th>\n",
       "      <td>61</td>\n",
       "      <td>enero</td>\n",
       "      <td>2019</td>\n",
       "    </tr>\n",
       "  </tbody>\n",
       "</table>\n",
       "</div>"
      ],
      "text/plain": [
       "  contam_media    mes   año\n",
       "0         67,8  enero  2019\n",
       "1         68,9  enero  2019\n",
       "2         61,8  enero  2019\n",
       "3         64,5  enero  2019\n",
       "4           61  enero  2019"
      ]
     },
     "execution_count": 17,
     "metadata": {},
     "output_type": "execute_result"
    }
   ],
   "source": [
    "contaminacion.head()"
   ]
  },
  {
   "cell_type": "code",
   "execution_count": 18,
   "metadata": {},
   "outputs": [],
   "source": [
    "# Convierte la columna \"contam_media\" a tipo numérico (ya que contiene comas en lugar de puntos)\n",
    "contaminacion['contam_media'] = contaminacion['contam_media'].str.replace(',', '.', regex=True).astype(float)"
   ]
  },
  {
   "cell_type": "code",
   "execution_count": 19,
   "metadata": {},
   "outputs": [],
   "source": [
    "# Agrupa por mes y calcula la media\n",
    "contaminacion = contaminacion.groupby(['mes', 'año'])['contam_media'].mean().reset_index().round(1).astype(str)"
   ]
  },
  {
   "cell_type": "code",
   "execution_count": 20,
   "metadata": {},
   "outputs": [
    {
     "data": {
      "text/html": [
       "<div>\n",
       "<style scoped>\n",
       "    .dataframe tbody tr th:only-of-type {\n",
       "        vertical-align: middle;\n",
       "    }\n",
       "\n",
       "    .dataframe tbody tr th {\n",
       "        vertical-align: top;\n",
       "    }\n",
       "\n",
       "    .dataframe thead th {\n",
       "        text-align: right;\n",
       "    }\n",
       "</style>\n",
       "<table border=\"1\" class=\"dataframe\">\n",
       "  <thead>\n",
       "    <tr style=\"text-align: right;\">\n",
       "      <th></th>\n",
       "      <th>mes</th>\n",
       "      <th>año</th>\n",
       "      <th>contam_media</th>\n",
       "    </tr>\n",
       "  </thead>\n",
       "  <tbody>\n",
       "    <tr>\n",
       "      <th>0</th>\n",
       "      <td>abril</td>\n",
       "      <td>2019</td>\n",
       "      <td>61.6</td>\n",
       "    </tr>\n",
       "    <tr>\n",
       "      <th>1</th>\n",
       "      <td>abril</td>\n",
       "      <td>2020</td>\n",
       "      <td>57.3</td>\n",
       "    </tr>\n",
       "    <tr>\n",
       "      <th>2</th>\n",
       "      <td>abril</td>\n",
       "      <td>2021</td>\n",
       "      <td>60.5</td>\n",
       "    </tr>\n",
       "    <tr>\n",
       "      <th>3</th>\n",
       "      <td>abril</td>\n",
       "      <td>2022</td>\n",
       "      <td>61.2</td>\n",
       "    </tr>\n",
       "    <tr>\n",
       "      <th>4</th>\n",
       "      <td>agosto</td>\n",
       "      <td>2019</td>\n",
       "      <td>60.1</td>\n",
       "    </tr>\n",
       "  </tbody>\n",
       "</table>\n",
       "</div>"
      ],
      "text/plain": [
       "      mes   año contam_media\n",
       "0   abril  2019         61.6\n",
       "1   abril  2020         57.3\n",
       "2   abril  2021         60.5\n",
       "3   abril  2022         61.2\n",
       "4  agosto  2019         60.1"
      ]
     },
     "execution_count": 20,
     "metadata": {},
     "output_type": "execute_result"
    }
   ],
   "source": [
    "contaminacion.head()"
   ]
  },
  {
   "cell_type": "code",
   "execution_count": 21,
   "metadata": {},
   "outputs": [],
   "source": [
    "contaminacion = contaminacion.sort_values(by=['año', 'mes']) #Para ordenar cronológicamente\n",
    "contaminacion = contaminacion.reset_index(drop=True)\n"
   ]
  },
  {
   "cell_type": "code",
   "execution_count": 22,
   "metadata": {},
   "outputs": [
    {
     "data": {
      "text/html": [
       "<div>\n",
       "<style scoped>\n",
       "    .dataframe tbody tr th:only-of-type {\n",
       "        vertical-align: middle;\n",
       "    }\n",
       "\n",
       "    .dataframe tbody tr th {\n",
       "        vertical-align: top;\n",
       "    }\n",
       "\n",
       "    .dataframe thead th {\n",
       "        text-align: right;\n",
       "    }\n",
       "</style>\n",
       "<table border=\"1\" class=\"dataframe\">\n",
       "  <thead>\n",
       "    <tr style=\"text-align: right;\">\n",
       "      <th></th>\n",
       "      <th>mes</th>\n",
       "      <th>año</th>\n",
       "      <th>contam_media</th>\n",
       "    </tr>\n",
       "  </thead>\n",
       "  <tbody>\n",
       "    <tr>\n",
       "      <th>0</th>\n",
       "      <td>abril</td>\n",
       "      <td>2019</td>\n",
       "      <td>61.6</td>\n",
       "    </tr>\n",
       "    <tr>\n",
       "      <th>1</th>\n",
       "      <td>agosto</td>\n",
       "      <td>2019</td>\n",
       "      <td>60.1</td>\n",
       "    </tr>\n",
       "    <tr>\n",
       "      <th>2</th>\n",
       "      <td>diciembre</td>\n",
       "      <td>2019</td>\n",
       "      <td>62.2</td>\n",
       "    </tr>\n",
       "    <tr>\n",
       "      <th>3</th>\n",
       "      <td>enero</td>\n",
       "      <td>2019</td>\n",
       "      <td>62.7</td>\n",
       "    </tr>\n",
       "    <tr>\n",
       "      <th>4</th>\n",
       "      <td>febrero</td>\n",
       "      <td>2019</td>\n",
       "      <td>61.9</td>\n",
       "    </tr>\n",
       "  </tbody>\n",
       "</table>\n",
       "</div>"
      ],
      "text/plain": [
       "         mes   año contam_media\n",
       "0      abril  2019         61.6\n",
       "1     agosto  2019         60.1\n",
       "2  diciembre  2019         62.2\n",
       "3      enero  2019         62.7\n",
       "4    febrero  2019         61.9"
      ]
     },
     "execution_count": 22,
     "metadata": {},
     "output_type": "execute_result"
    }
   ],
   "source": [
    "contaminacion.head()"
   ]
  },
  {
   "cell_type": "code",
   "execution_count": 23,
   "metadata": {},
   "outputs": [],
   "source": [
    "meses_dict = {\n",
    "    'enero': 1,\n",
    "    'febrero': 2,\n",
    "    'marzo': 3,\n",
    "    'abril': 4,\n",
    "    'mayo': 5,\n",
    "    'junio': 6,\n",
    "    'julio': 7,\n",
    "    'agosto': 8,\n",
    "    'septiembre': 9,\n",
    "    'octubre': 10,\n",
    "    'noviembre': 11,\n",
    "    'diciembre': 12\n",
    "}\n"
   ]
  },
  {
   "cell_type": "code",
   "execution_count": 24,
   "metadata": {},
   "outputs": [],
   "source": [
    "contaminacion['mes_numero'] = contaminacion['mes'].map(meses_dict)\n"
   ]
  },
  {
   "cell_type": "code",
   "execution_count": 25,
   "metadata": {},
   "outputs": [],
   "source": [
    "contaminacion = contaminacion.sort_values(by=['año', 'mes_numero'])\n",
    "contaminacion = contaminacion.reset_index(drop=True)\n",
    "contaminacion.drop('mes_numero', axis=1, inplace=True)  # Elimina la columna temporal"
   ]
  },
  {
   "cell_type": "code",
   "execution_count": 26,
   "metadata": {},
   "outputs": [
    {
     "data": {
      "text/html": [
       "<div>\n",
       "<style scoped>\n",
       "    .dataframe tbody tr th:only-of-type {\n",
       "        vertical-align: middle;\n",
       "    }\n",
       "\n",
       "    .dataframe tbody tr th {\n",
       "        vertical-align: top;\n",
       "    }\n",
       "\n",
       "    .dataframe thead th {\n",
       "        text-align: right;\n",
       "    }\n",
       "</style>\n",
       "<table border=\"1\" class=\"dataframe\">\n",
       "  <thead>\n",
       "    <tr style=\"text-align: right;\">\n",
       "      <th></th>\n",
       "      <th>mes</th>\n",
       "      <th>año</th>\n",
       "      <th>contam_media</th>\n",
       "    </tr>\n",
       "  </thead>\n",
       "  <tbody>\n",
       "    <tr>\n",
       "      <th>0</th>\n",
       "      <td>enero</td>\n",
       "      <td>2019</td>\n",
       "      <td>62.7</td>\n",
       "    </tr>\n",
       "    <tr>\n",
       "      <th>1</th>\n",
       "      <td>febrero</td>\n",
       "      <td>2019</td>\n",
       "      <td>61.9</td>\n",
       "    </tr>\n",
       "    <tr>\n",
       "      <th>2</th>\n",
       "      <td>marzo</td>\n",
       "      <td>2019</td>\n",
       "      <td>61.7</td>\n",
       "    </tr>\n",
       "    <tr>\n",
       "      <th>3</th>\n",
       "      <td>abril</td>\n",
       "      <td>2019</td>\n",
       "      <td>61.6</td>\n",
       "    </tr>\n",
       "    <tr>\n",
       "      <th>4</th>\n",
       "      <td>mayo</td>\n",
       "      <td>2019</td>\n",
       "      <td>61.0</td>\n",
       "    </tr>\n",
       "  </tbody>\n",
       "</table>\n",
       "</div>"
      ],
      "text/plain": [
       "       mes   año contam_media\n",
       "0    enero  2019         62.7\n",
       "1  febrero  2019         61.9\n",
       "2    marzo  2019         61.7\n",
       "3    abril  2019         61.6\n",
       "4     mayo  2019         61.0"
      ]
     },
     "execution_count": 26,
     "metadata": {},
     "output_type": "execute_result"
    }
   ],
   "source": [
    "contaminacion.head()"
   ]
  },
  {
   "cell_type": "code",
   "execution_count": 27,
   "metadata": {},
   "outputs": [],
   "source": [
    "contaminacion.to_csv('contaminacion_limpo.csv', index=False)\n"
   ]
  },
  {
   "cell_type": "code",
   "execution_count": null,
   "metadata": {},
   "outputs": [],
   "source": []
  }
 ],
 "metadata": {
  "kernelspec": {
   "display_name": "Python 3.11.4 ('base')",
   "language": "python",
   "name": "python3"
  },
  "language_info": {
   "codemirror_mode": {
    "name": "ipython",
    "version": 3
   },
   "file_extension": ".py",
   "mimetype": "text/x-python",
   "name": "python",
   "nbconvert_exporter": "python",
   "pygments_lexer": "ipython3",
   "version": "3.11.4"
  },
  "orig_nbformat": 4,
  "vscode": {
   "interpreter": {
    "hash": "a82bd0a769c5b969fd854d2762f3e3ec71d2efb7e7ec84505984acf550a1b7e1"
   }
  }
 },
 "nbformat": 4,
 "nbformat_minor": 2
}
